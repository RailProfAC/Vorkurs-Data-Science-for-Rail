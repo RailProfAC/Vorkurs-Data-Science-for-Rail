{
 "cells": [
  {
   "cell_type": "markdown",
   "metadata": {},
   "source": [
    "# Most basic Jupyter Notebook <- Heading\n",
    "\n",
    "Markdown content.\n",
    "\n",
    "## Second level heading\n",
    "\n",
    "Can contain \n",
    "\n",
    " - Lists\n",
    " - Enumerations:\n",
    "     1. First item\n",
    "     1. Second item\n",
    " \n",
    " *Text* **formatting** by simply ***adding*** stars\n",
    " \n",
    " ---\n",
    " \n",
    " Dividers\n",
    " \n",
    " ```Python\n",
    " # Source code\n",
    " print('Hello World')\n",
    "```\n",
    " \n",
    " ---\n",
    " \n",
    "[Links](https://www.ibm.com/support/knowledgecenter/SSHGWL_1.2.3/analyze-data/markd-jupyter.html)\n",
    " \n",
    " Images ![Teacher drawing](figures/teachersmall.png)\n",
    " \n",
    " ---\n",
    " All these text option make it very convenient to unite Documentation and code!\n",
    " "
   ]
  },
  {
   "cell_type": "code",
   "execution_count": null,
   "metadata": {},
   "outputs": [],
   "source": [
    "# Finally, the code:\n",
    "print('Hello World')"
   ]
  },
  {
   "cell_type": "code",
   "execution_count": null,
   "metadata": {},
   "outputs": [],
   "source": []
  }
 ],
 "metadata": {
  "kernelspec": {
   "display_name": "Python 3",
   "language": "python",
   "name": "python3"
  },
  "language_info": {
   "codemirror_mode": {
    "name": "ipython",
    "version": 3
   },
   "file_extension": ".py",
   "mimetype": "text/x-python",
   "name": "python",
   "nbconvert_exporter": "python",
   "pygments_lexer": "ipython3",
   "version": "3.8.3"
  }
 },
 "nbformat": 4,
 "nbformat_minor": 4
}
