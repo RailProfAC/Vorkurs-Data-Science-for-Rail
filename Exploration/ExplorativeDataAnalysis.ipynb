{
 "cells": [
  {
   "cell_type": "markdown",
   "metadata": {},
   "source": [
    "# Data Exploration and Visualisation\n",
    "\n",
    "Data exploration means a lot of rough analyses, mostly qualitatively. For this, plotting comes handy. We start by importing some packages.\n",
    "\n",
    "Most likely, importing plotly results in an error:\n",
    "![](figures/NoPlotly.png)\n",
    "\n",
    "In this case, change to your terminal, call \n",
    "```.sh\n",
    "conda install plotly\n",
    "```\n",
    "and confirm with ```y```\n",
    "\n",
    "![](figures/Terminal.png)\n",
    "\n",
    "In this way, you used the conda package manager for the first time!"
   ]
  },
  {
   "cell_type": "code",
   "execution_count": 16,
   "metadata": {},
   "outputs": [],
   "source": [
    "# Plot library\n",
    "import matplotlib\n",
    "import matplotlib.pyplot as plt\n",
    "import pandas as pd\n",
    "# More plot styles\n",
    "import seaborn as sns\n",
    "# Clickable d3.js-Plots\n",
    "import plotly.offline as po\n",
    "\n",
    "# Plots to appear in notebook\n",
    "%matplotlib inline"
   ]
  },
  {
   "cell_type": "markdown",
   "metadata": {},
   "source": [
    "## Analyse Emmas trace\n",
    "\n",
    "We will once again take a look at Emmas trace, BTW this is Emma:\n",
    "\n",
    "![Emma at Railway Challenge 2018](figures/EmmaCastle.jpg)"
   ]
  },
  {
   "cell_type": "markdown",
   "metadata": {},
   "source": [
    "We start onve again by importing the dataset from Amazons Cloud storage."
   ]
  },
  {
   "cell_type": "code",
   "execution_count": 17,
   "metadata": {},
   "outputs": [
    {
     "data": {
      "text/html": [
       "<div>\n",
       "<style scoped>\n",
       "    .dataframe tbody tr th:only-of-type {\n",
       "        vertical-align: middle;\n",
       "    }\n",
       "\n",
       "    .dataframe tbody tr th {\n",
       "        vertical-align: top;\n",
       "    }\n",
       "\n",
       "    .dataframe thead th {\n",
       "        text-align: right;\n",
       "    }\n",
       "</style>\n",
       "<table border=\"1\" class=\"dataframe\">\n",
       "  <thead>\n",
       "    <tr style=\"text-align: right;\">\n",
       "      <th></th>\n",
       "      <th>y</th>\n",
       "      <th>x</th>\n",
       "      <th>z</th>\n",
       "      <th>v</th>\n",
       "    </tr>\n",
       "  </thead>\n",
       "  <tbody>\n",
       "    <tr>\n",
       "      <th>0</th>\n",
       "      <td>47.992597</td>\n",
       "      <td>9.678717</td>\n",
       "      <td>557.519958</td>\n",
       "      <td>-1.0</td>\n",
       "    </tr>\n",
       "    <tr>\n",
       "      <th>1</th>\n",
       "      <td>47.992597</td>\n",
       "      <td>9.678717</td>\n",
       "      <td>557.519958</td>\n",
       "      <td>-1.0</td>\n",
       "    </tr>\n",
       "    <tr>\n",
       "      <th>2</th>\n",
       "      <td>47.992538</td>\n",
       "      <td>9.678639</td>\n",
       "      <td>561.268433</td>\n",
       "      <td>0.0</td>\n",
       "    </tr>\n",
       "    <tr>\n",
       "      <th>3</th>\n",
       "      <td>47.992538</td>\n",
       "      <td>9.678639</td>\n",
       "      <td>561.268433</td>\n",
       "      <td>0.0</td>\n",
       "    </tr>\n",
       "    <tr>\n",
       "      <th>4</th>\n",
       "      <td>47.992538</td>\n",
       "      <td>9.678639</td>\n",
       "      <td>562.678432</td>\n",
       "      <td>0.0</td>\n",
       "    </tr>\n",
       "  </tbody>\n",
       "</table>\n",
       "</div>"
      ],
      "text/plain": [
       "           y         x           z    v\n",
       "0  47.992597  9.678717  557.519958 -1.0\n",
       "1  47.992597  9.678717  557.519958 -1.0\n",
       "2  47.992538  9.678639  561.268433  0.0\n",
       "3  47.992538  9.678639  561.268433  0.0\n",
       "4  47.992538  9.678639  562.678432  0.0"
      ]
     },
     "execution_count": 17,
     "metadata": {},
     "output_type": "execute_result"
    }
   ],
   "source": [
    "df = pd.read_json('https://s3-eu-west-1.amazonaws.com/ifvworkshopdata/emma1000.json')\n",
    "df.head()"
   ]
  },
  {
   "cell_type": "markdown",
   "metadata": {},
   "source": [
    "For a brief analysis, we use the ```describe()```-Methodd:"
   ]
  },
  {
   "cell_type": "code",
   "execution_count": 18,
   "metadata": {},
   "outputs": [
    {
     "data": {
      "text/html": [
       "<div>\n",
       "<style scoped>\n",
       "    .dataframe tbody tr th:only-of-type {\n",
       "        vertical-align: middle;\n",
       "    }\n",
       "\n",
       "    .dataframe tbody tr th {\n",
       "        vertical-align: top;\n",
       "    }\n",
       "\n",
       "    .dataframe thead th {\n",
       "        text-align: right;\n",
       "    }\n",
       "</style>\n",
       "<table border=\"1\" class=\"dataframe\">\n",
       "  <thead>\n",
       "    <tr style=\"text-align: right;\">\n",
       "      <th></th>\n",
       "      <th>y</th>\n",
       "      <th>x</th>\n",
       "      <th>z</th>\n",
       "      <th>v</th>\n",
       "    </tr>\n",
       "  </thead>\n",
       "  <tbody>\n",
       "    <tr>\n",
       "      <th>count</th>\n",
       "      <td>1000.000000</td>\n",
       "      <td>1000.000000</td>\n",
       "      <td>1000.000000</td>\n",
       "      <td>1000.000000</td>\n",
       "    </tr>\n",
       "    <tr>\n",
       "      <th>mean</th>\n",
       "      <td>47.992761</td>\n",
       "      <td>9.679069</td>\n",
       "      <td>554.755151</td>\n",
       "      <td>1.349290</td>\n",
       "    </tr>\n",
       "    <tr>\n",
       "      <th>std</th>\n",
       "      <td>0.000315</td>\n",
       "      <td>0.000555</td>\n",
       "      <td>2.376241</td>\n",
       "      <td>0.955252</td>\n",
       "    </tr>\n",
       "    <tr>\n",
       "      <th>min</th>\n",
       "      <td>47.992196</td>\n",
       "      <td>9.677698</td>\n",
       "      <td>552.592451</td>\n",
       "      <td>-1.000000</td>\n",
       "    </tr>\n",
       "    <tr>\n",
       "      <th>25%</th>\n",
       "      <td>47.992465</td>\n",
       "      <td>9.678720</td>\n",
       "      <td>553.121804</td>\n",
       "      <td>0.290000</td>\n",
       "    </tr>\n",
       "    <tr>\n",
       "      <th>50%</th>\n",
       "      <td>47.992756</td>\n",
       "      <td>9.679228</td>\n",
       "      <td>554.343775</td>\n",
       "      <td>1.510000</td>\n",
       "    </tr>\n",
       "    <tr>\n",
       "      <th>75%</th>\n",
       "      <td>47.993149</td>\n",
       "      <td>9.679509</td>\n",
       "      <td>555.323952</td>\n",
       "      <td>1.992500</td>\n",
       "    </tr>\n",
       "    <tr>\n",
       "      <th>max</th>\n",
       "      <td>47.993192</td>\n",
       "      <td>9.679838</td>\n",
       "      <td>579.272549</td>\n",
       "      <td>3.670000</td>\n",
       "    </tr>\n",
       "  </tbody>\n",
       "</table>\n",
       "</div>"
      ],
      "text/plain": [
       "                 y            x            z            v\n",
       "count  1000.000000  1000.000000  1000.000000  1000.000000\n",
       "mean     47.992761     9.679069   554.755151     1.349290\n",
       "std       0.000315     0.000555     2.376241     0.955252\n",
       "min      47.992196     9.677698   552.592451    -1.000000\n",
       "25%      47.992465     9.678720   553.121804     0.290000\n",
       "50%      47.992756     9.679228   554.343775     1.510000\n",
       "75%      47.993149     9.679509   555.323952     1.992500\n",
       "max      47.993192     9.679838   579.272549     3.670000"
      ]
     },
     "execution_count": 18,
     "metadata": {},
     "output_type": "execute_result"
    }
   ],
   "source": [
    "df.describe()"
   ]
  },
  {
   "cell_type": "markdown",
   "metadata": {},
   "source": [
    "From the results of ```describe()```, we observe that of course the longitude and latitude do not vary much, it is a park railway in the end. The velocity shows the behaviour as before, with $-1$-entries during startup of the GPS.\n",
    "\n",
    "We will now proceed to remove the lines with $-1$-entries from the dataframe using ```drop()```. I use ```df[df['v'] == -1].index```to obtain the indices of these lines, to feed to the ```index```-keyword of ```drop()```. It is done inplace in order to speed things up and save memory."
   ]
  },
  {
   "cell_type": "code",
   "execution_count": 20,
   "metadata": {},
   "outputs": [
    {
     "data": {
      "text/html": [
       "<div>\n",
       "<style scoped>\n",
       "    .dataframe tbody tr th:only-of-type {\n",
       "        vertical-align: middle;\n",
       "    }\n",
       "\n",
       "    .dataframe tbody tr th {\n",
       "        vertical-align: top;\n",
       "    }\n",
       "\n",
       "    .dataframe thead th {\n",
       "        text-align: right;\n",
       "    }\n",
       "</style>\n",
       "<table border=\"1\" class=\"dataframe\">\n",
       "  <thead>\n",
       "    <tr style=\"text-align: right;\">\n",
       "      <th></th>\n",
       "      <th>y</th>\n",
       "      <th>x</th>\n",
       "      <th>z</th>\n",
       "      <th>v</th>\n",
       "    </tr>\n",
       "  </thead>\n",
       "  <tbody>\n",
       "    <tr>\n",
       "      <th>2</th>\n",
       "      <td>47.992538</td>\n",
       "      <td>9.678639</td>\n",
       "      <td>561.268433</td>\n",
       "      <td>0.0</td>\n",
       "    </tr>\n",
       "    <tr>\n",
       "      <th>3</th>\n",
       "      <td>47.992538</td>\n",
       "      <td>9.678639</td>\n",
       "      <td>561.268433</td>\n",
       "      <td>0.0</td>\n",
       "    </tr>\n",
       "    <tr>\n",
       "      <th>4</th>\n",
       "      <td>47.992538</td>\n",
       "      <td>9.678639</td>\n",
       "      <td>562.678432</td>\n",
       "      <td>0.0</td>\n",
       "    </tr>\n",
       "    <tr>\n",
       "      <th>5</th>\n",
       "      <td>47.992538</td>\n",
       "      <td>9.678639</td>\n",
       "      <td>562.678432</td>\n",
       "      <td>0.0</td>\n",
       "    </tr>\n",
       "    <tr>\n",
       "      <th>6</th>\n",
       "      <td>47.992453</td>\n",
       "      <td>9.678604</td>\n",
       "      <td>563.627529</td>\n",
       "      <td>0.0</td>\n",
       "    </tr>\n",
       "  </tbody>\n",
       "</table>\n",
       "</div>"
      ],
      "text/plain": [
       "           y         x           z    v\n",
       "2  47.992538  9.678639  561.268433  0.0\n",
       "3  47.992538  9.678639  561.268433  0.0\n",
       "4  47.992538  9.678639  562.678432  0.0\n",
       "5  47.992538  9.678639  562.678432  0.0\n",
       "6  47.992453  9.678604  563.627529  0.0"
      ]
     },
     "execution_count": 20,
     "metadata": {},
     "output_type": "execute_result"
    }
   ],
   "source": [
    "df.drop(index = df[df['v'] == -1].index, inplace=True)\n",
    "df.head()"
   ]
  },
  {
   "cell_type": "markdown",
   "metadata": {},
   "source": [
    "## Exercise\n",
    "\n",
    "Knowing where the data originates from, also the maximum altitude appears questionable, we will consequently drop all values with $z > 560$, which is your exercise."
   ]
  },
  {
   "cell_type": "code",
   "execution_count": 21,
   "metadata": {},
   "outputs": [],
   "source": [
    "df.drop(index = df[df['z'] > 560].index, inplace=True)"
   ]
  },
  {
   "cell_type": "markdown",
   "metadata": {
    "scrolled": true
   },
   "source": [
    "We can then proceed to plot a velocity histogram with Matplotlib, the most basic plotting library in Python. Try the keywords ```cumulative = True``` and ```density = True``` to obtain a normed cumulative distribution as well as ```bins = 20```.\n",
    "\n",
    "You may also wish to save the returned arrays, as they tend to be disturbing."
   ]
  },
  {
   "cell_type": "code",
   "execution_count": 23,
   "metadata": {},
   "outputs": [
    {
     "data": {
      "image/png": "[encoded data removed]",
      "text/plain": [
       "<Figure size 432x288 with 1 Axes>"
      ]
     },
     "metadata": {
      "needs_background": "light"
     },
     "output_type": "display_data"
    }
   ],
   "source": [
    "trash = plt.hist(df['v'])"
   ]
  },
  {
   "cell_type": "markdown",
   "metadata": {},
   "source": [
    "I prefer to use Seaborn for plotting, which accepts all Matplotlib options but looks better. Here we use \n",
    "\n",
    "- ```distplot```\n",
    "- ```plt.title('Velocity')```\n",
    "- ```plt.savefig('emmavelocity.png', dpi = 600```\n",
    "\n",
    "to generate a histogram,  add a title and to save the figure as a file. the ```kde = False``` inhibits the generate of a kernel density estimation."
   ]
  },
  {
   "cell_type": "code",
   "execution_count": 26,
   "metadata": {},
   "outputs": [
    {
     "data": {
      "image/png": "[encoded data removed]",
      "text/plain": [
       "<Figure size 432x288 with 1 Axes>"
      ]
     },
     "metadata": {
      "needs_background": "light"
     },
     "output_type": "display_data"
    }
   ],
   "source": [
    "f = plt.figure(111)\n",
    "ax = sns.distplot(df['v'], kde = False)\n",
    "plt.title('Velocity')\n",
    "plt.savefig('emmavelocity.png', dpi = 600)"
   ]
  },
  {
   "cell_type": "markdown",
   "metadata": {},
   "source": [
    "The velocity distribution looks like a typical rail vehicle velocity on a curvy track: with dwell time and a centered distribution around an average."
   ]
  },
  {
   "cell_type": "markdown",
   "metadata": {},
   "source": [
    "Next I will introduce you to the plotly library, which enables you to generate clickable html plots of data. The plot opens in a new window. Just try the interface, which comes without any additional effort.\n",
    "\n",
    "The HTML-figure is also saved in the current folder and be reused without Python."
   ]
  },
  {
   "cell_type": "code",
   "execution_count": 27,
   "metadata": {},
   "outputs": [],
   "source": [
    "data = [# Each curve is a dictionary structure\n",
    "        {'type': 'scatter',\n",
    "        'y': df['v'],\n",
    "        'name': 'velocity'},\n",
    "        {'type': 'scatter',\n",
    "        'y': df['z']-df['z'].mean(), # Here I remove the mean of the data\n",
    "        'name': 'Rel. altitude'}\n",
    "       ]\n",
    "layout = {\"title\": 'Emmas velocity'}\n",
    "fig = dict( data=data, layout=layout )\n",
    "trash = po.plot(fig, validate=True, filename='emmavelocity.html')"
   ]
  },
  {
   "cell_type": "markdown",
   "metadata": {},
   "source": [
    "To introduce you to some more plotting option, lets plot the geographic distribution of the data featuring the velocity."
   ]
  },
  {
   "cell_type": "code",
   "execution_count": 28,
   "metadata": {
    "scrolled": false
   },
   "outputs": [
    {
     "data": {
      "image/png": "[encoded data removed]",
      "text/plain": [
       "<Figure size 432x288 with 1 Axes>"
      ]
     },
     "metadata": {
      "needs_background": "light"
     },
     "output_type": "display_data"
    }
   ],
   "source": [
    "ax = sns.scatterplot(y=df['y'], x=df['x'], alpha = 0.5, hue = df['v'], palette = \"coolwarm\")"
   ]
  },
  {
   "cell_type": "markdown",
   "metadata": {},
   "source": [
    "## Exercise:\n",
    "\n",
    "- Load the open data set on platform height and length from: http://download-data.deutschebahn.com/static/datasets/bahnsteig/DBSuS-Bahnsteigdaten-Stand2020-03.csv\n",
    "- Produce a scatter plot of platform length ('Netto-baulänge (m)') and ('Höhe Bahnsteigkante (cm)\"' [sic!])\n",
    "- Do you find any interesting patterns?\n",
    "- Can you repeat your findings using ```distplot```to investigate the individual data?\n",
    "\n",
    "Hint: use ```plt.figure()``` to plot on a new figure."
   ]
  },
  {
   "cell_type": "code",
   "execution_count": null,
   "metadata": {},
   "outputs": [],
   "source": []
  },
  {
   "cell_type": "markdown",
   "metadata": {},
   "source": [
    "## Plot beach usage 🏖🏝\n",
    "\n",
    "Well, actually it's Scharbeutz, but however...\n",
    "\n",
    "Let's read in the data:"
   ]
  },
  {
   "cell_type": "code",
   "execution_count": 29,
   "metadata": {},
   "outputs": [
    {
     "data": {
      "text/html": [
       "<div>\n",
       "<style scoped>\n",
       "    .dataframe tbody tr th:only-of-type {\n",
       "        vertical-align: middle;\n",
       "    }\n",
       "\n",
       "    .dataframe tbody tr th {\n",
       "        vertical-align: top;\n",
       "    }\n",
       "\n",
       "    .dataframe thead th {\n",
       "        text-align: right;\n",
       "    }\n",
       "</style>\n",
       "<table border=\"1\" class=\"dataframe\">\n",
       "  <thead>\n",
       "    <tr style=\"text-align: right;\">\n",
       "      <th></th>\n",
       "      <th>timestamp</th>\n",
       "      <th>area</th>\n",
       "      <th>sensor</th>\n",
       "      <th>value</th>\n",
       "    </tr>\n",
       "  </thead>\n",
       "  <tbody>\n",
       "    <tr>\n",
       "      <th>0</th>\n",
       "      <td>14.11.2020 00:00:00</td>\n",
       "      <td>Scharbeutz - Strandabschnitt  21-24</td>\n",
       "      <td>count</td>\n",
       "      <td>0.0</td>\n",
       "    </tr>\n",
       "    <tr>\n",
       "      <th>1</th>\n",
       "      <td>14.11.2020 00:01:00</td>\n",
       "      <td>Scharbeutz - Strandabschnitt  21-24</td>\n",
       "      <td>count</td>\n",
       "      <td>0.0</td>\n",
       "    </tr>\n",
       "    <tr>\n",
       "      <th>2</th>\n",
       "      <td>14.11.2020 00:02:00</td>\n",
       "      <td>Scharbeutz - Strandabschnitt  21-24</td>\n",
       "      <td>count</td>\n",
       "      <td>0.0</td>\n",
       "    </tr>\n",
       "    <tr>\n",
       "      <th>3</th>\n",
       "      <td>14.11.2020 00:03:00</td>\n",
       "      <td>Scharbeutz - Strandabschnitt  21-24</td>\n",
       "      <td>count</td>\n",
       "      <td>0.0</td>\n",
       "    </tr>\n",
       "    <tr>\n",
       "      <th>4</th>\n",
       "      <td>14.11.2020 00:04:00</td>\n",
       "      <td>Scharbeutz - Strandabschnitt  21-24</td>\n",
       "      <td>count</td>\n",
       "      <td>0.0</td>\n",
       "    </tr>\n",
       "  </tbody>\n",
       "</table>\n",
       "</div>"
      ],
      "text/plain": [
       "             timestamp                                 area sensor  value\n",
       "0  14.11.2020 00:00:00  Scharbeutz - Strandabschnitt  21-24  count    0.0\n",
       "1  14.11.2020 00:01:00  Scharbeutz - Strandabschnitt  21-24  count    0.0\n",
       "2  14.11.2020 00:02:00  Scharbeutz - Strandabschnitt  21-24  count    0.0\n",
       "3  14.11.2020 00:03:00  Scharbeutz - Strandabschnitt  21-24  count    0.0\n",
       "4  14.11.2020 00:04:00  Scharbeutz - Strandabschnitt  21-24  count    0.0"
      ]
     },
     "execution_count": 29,
     "metadata": {},
     "output_type": "execute_result"
    }
   ],
   "source": [
    "df = pd.read_csv(\n",
    "    'https://opendatarepo.lsh.uni-kiel.de/data/scharbeutz/Scharbeutz_Strandabschnitt_21-24_2020-11-14.csv',\n",
    "    sep = ';', # Separator default is \",\"\n",
    "    decimal=\",\") # German decimal separator\n",
    "df.head()"
   ]
  },
  {
   "cell_type": "markdown",
   "metadata": {},
   "source": [
    "It is quite unhandy that the timestamp is not the index, we can change this using the ```index_col```, ```parse_dates``` and ```infer_datetime_format``` options."
   ]
  },
  {
   "cell_type": "code",
   "execution_count": 30,
   "metadata": {},
   "outputs": [
    {
     "data": {
      "text/html": [
       "<div>\n",
       "<style scoped>\n",
       "    .dataframe tbody tr th:only-of-type {\n",
       "        vertical-align: middle;\n",
       "    }\n",
       "\n",
       "    .dataframe tbody tr th {\n",
       "        vertical-align: top;\n",
       "    }\n",
       "\n",
       "    .dataframe thead th {\n",
       "        text-align: right;\n",
       "    }\n",
       "</style>\n",
       "<table border=\"1\" class=\"dataframe\">\n",
       "  <thead>\n",
       "    <tr style=\"text-align: right;\">\n",
       "      <th></th>\n",
       "      <th>area</th>\n",
       "      <th>sensor</th>\n",
       "      <th>value</th>\n",
       "    </tr>\n",
       "    <tr>\n",
       "      <th>timestamp</th>\n",
       "      <th></th>\n",
       "      <th></th>\n",
       "      <th></th>\n",
       "    </tr>\n",
       "  </thead>\n",
       "  <tbody>\n",
       "    <tr>\n",
       "      <th>2020-11-14 00:00:00</th>\n",
       "      <td>Scharbeutz - Strandabschnitt  21-24</td>\n",
       "      <td>count</td>\n",
       "      <td>0.0</td>\n",
       "    </tr>\n",
       "    <tr>\n",
       "      <th>2020-11-14 00:01:00</th>\n",
       "      <td>Scharbeutz - Strandabschnitt  21-24</td>\n",
       "      <td>count</td>\n",
       "      <td>0.0</td>\n",
       "    </tr>\n",
       "    <tr>\n",
       "      <th>2020-11-14 00:02:00</th>\n",
       "      <td>Scharbeutz - Strandabschnitt  21-24</td>\n",
       "      <td>count</td>\n",
       "      <td>0.0</td>\n",
       "    </tr>\n",
       "    <tr>\n",
       "      <th>2020-11-14 00:03:00</th>\n",
       "      <td>Scharbeutz - Strandabschnitt  21-24</td>\n",
       "      <td>count</td>\n",
       "      <td>0.0</td>\n",
       "    </tr>\n",
       "    <tr>\n",
       "      <th>2020-11-14 00:04:00</th>\n",
       "      <td>Scharbeutz - Strandabschnitt  21-24</td>\n",
       "      <td>count</td>\n",
       "      <td>0.0</td>\n",
       "    </tr>\n",
       "  </tbody>\n",
       "</table>\n",
       "</div>"
      ],
      "text/plain": [
       "                                                    area sensor  value\n",
       "timestamp                                                             \n",
       "2020-11-14 00:00:00  Scharbeutz - Strandabschnitt  21-24  count    0.0\n",
       "2020-11-14 00:01:00  Scharbeutz - Strandabschnitt  21-24  count    0.0\n",
       "2020-11-14 00:02:00  Scharbeutz - Strandabschnitt  21-24  count    0.0\n",
       "2020-11-14 00:03:00  Scharbeutz - Strandabschnitt  21-24  count    0.0\n",
       "2020-11-14 00:04:00  Scharbeutz - Strandabschnitt  21-24  count    0.0"
      ]
     },
     "execution_count": 30,
     "metadata": {},
     "output_type": "execute_result"
    }
   ],
   "source": [
    "df = pd.read_csv(\n",
    "    'https://opendatarepo.lsh.uni-kiel.de/data/scharbeutz/Scharbeutz_Strandabschnitt_21-24_2020-11-14.csv',\n",
    "    sep = ';', # Separator default is \",\"\n",
    "    decimal=\",\",\n",
    "    index_col = 'timestamp',\n",
    "    parse_dates = True,\n",
    "    infer_datetime_format = True) # German decimal separator\n",
    "df.head()"
   ]
  },
  {
   "cell_type": "markdown",
   "metadata": {},
   "source": [
    "## Exercise:\n",
    "\n",
    "How is the data distributed over a *November* day?\n",
    "\n",
    "Plot the data using ```df.plt()``` with kwarg ```rot = 90``` and try some of the ```kind``` options:\n",
    "\n",
    "    - ‘line’ : line plot (default)\n",
    "    - ‘hist’ : histogram\n",
    "    - ‘box’ : boxplot\n",
    "    - ‘kde’ : Kernel Density Estimation plot\n",
    "    - ‘density’ : same as ‘kde’\n",
    "    - ‘area’ : area plot\n",
    "    - ‘pie’ : pie plot\n",
    "    - ‘scatter’ : scatter plot\n",
    "    - ‘hexbin’ : hexbin plot\n"
   ]
  },
  {
   "cell_type": "code",
   "execution_count": null,
   "metadata": {},
   "outputs": [],
   "source": []
  }
 ],
 "metadata": {
  "kernelspec": {
   "display_name": "Python 3",
   "language": "python",
   "name": "python3"
  },
  "language_info": {
   "codemirror_mode": {
    "name": "ipython",
    "version": 3
   },
   "file_extension": ".py",
   "mimetype": "text/x-python",
   "name": "python",
   "nbconvert_exporter": "python",
   "pygments_lexer": "ipython3",
   "version": "3.8.3"
  }
 },
 "nbformat": 4,
 "nbformat_minor": 2
}
