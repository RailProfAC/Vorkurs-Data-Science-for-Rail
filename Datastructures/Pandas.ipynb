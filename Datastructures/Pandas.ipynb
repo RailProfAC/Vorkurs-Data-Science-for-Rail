{
 "cells": [
  {
   "attachments": {},
   "cell_type": "markdown",
   "metadata": {},
   "source": [
    "# Pandas-Library\n",
    "\n",
    "Pandas is a Python library for data analysis and manipulation, most notably table-formatted data.\n",
    "\n",
    "Since pandas is an additional library, it needs to be imported first."
   ]
  },
  {
   "cell_type": "code",
   "execution_count": 1,
   "metadata": {},
   "outputs": [],
   "source": [
    "import pandas as pd # Canonical import of pandas as np"
   ]
  },
  {
   "attachments": {},
   "cell_type": "markdown",
   "metadata": {},
   "source": [
    "Pandas supports two major data structures:\n",
    "\n",
    "- DataFrames: rectangular data tables\n",
    "- Series: serial data"
   ]
  },
  {
   "attachments": {},
   "cell_type": "markdown",
   "metadata": {},
   "source": [
    "## Series\n",
    "\n",
    "Series are one-dimensional (array-like) data structures, useful for single data columns.\n",
    "\n"
   ]
  },
  {
   "cell_type": "code",
   "execution_count": 2,
   "metadata": {},
   "outputs": [
    {
     "data": {
      "text/plain": [
       "0     0\n",
       "1     1\n",
       "2     4\n",
       "3     9\n",
       "4    16\n",
       "dtype: int64"
      ]
     },
     "execution_count": 2,
     "metadata": {},
     "output_type": "execute_result"
    }
   ],
   "source": [
    "# Create a series from a list, with standard index\n",
    "s = pd.Series(data = [0,1,4,9,16])\n",
    "# Display\n",
    "s.head()"
   ]
  },
  {
   "attachments": {},
   "cell_type": "markdown",
   "metadata": {},
   "source": [
    "## DataFrames\n",
    "\n",
    "DataFrame can be created from lists or matrices and imported from data, e.g. csv-Files.\n",
    "\n",
    "An example DataFrame looks like:"
   ]
  },
  {
   "cell_type": "code",
   "execution_count": 3,
   "metadata": {},
   "outputs": [
    {
     "data": {
      "text/html": [
       "<div>\n",
       "<style scoped>\n",
       "    .dataframe tbody tr th:only-of-type {\n",
       "        vertical-align: middle;\n",
       "    }\n",
       "\n",
       "    .dataframe tbody tr th {\n",
       "        vertical-align: top;\n",
       "    }\n",
       "\n",
       "    .dataframe thead th {\n",
       "        text-align: right;\n",
       "    }\n",
       "</style>\n",
       "<table border=\"1\" class=\"dataframe\">\n",
       "  <thead>\n",
       "    <tr style=\"text-align: right;\">\n",
       "      <th></th>\n",
       "      <th>A</th>\n",
       "      <th>B</th>\n",
       "      <th>C</th>\n",
       "    </tr>\n",
       "  </thead>\n",
       "  <tbody>\n",
       "    <tr>\n",
       "      <th>0</th>\n",
       "      <td>1</td>\n",
       "      <td>2</td>\n",
       "      <td>3</td>\n",
       "    </tr>\n",
       "    <tr>\n",
       "      <th>1</th>\n",
       "      <td>4</td>\n",
       "      <td>5</td>\n",
       "      <td>6</td>\n",
       "    </tr>\n",
       "  </tbody>\n",
       "</table>\n",
       "</div>"
      ],
      "text/plain": [
       "   A  B  C\n",
       "0  1  2  3\n",
       "1  4  5  6"
      ]
     },
     "execution_count": 3,
     "metadata": {},
     "output_type": "execute_result"
    }
   ],
   "source": [
    "# Create dataframe from list of lists with explicitly named columns\n",
    "# Since the command stems from the pandas-library, we have to call pd.DataFrame\n",
    "df = pd.DataFrame(data = [[1, 2, 3], [4, 5, 6]], columns = ['A', 'B', 'C'])\n",
    "# Show the top lines (.head()) of dataframe\n",
    "# Since we apply .head() to the dataframe df, we call df.head()\n",
    "df.head()"
   ]
  },
  {
   "attachments": {},
   "cell_type": "markdown",
   "metadata": {},
   "source": [
    "More frequently, we will import datasets from various sources, in the following command we read the list of all stations in Germany in CSV-format (.read_csv() from Pandas):"
   ]
  },
  {
   "cell_type": "code",
   "execution_count": 4,
   "metadata": {},
   "outputs": [],
   "source": [
    "df = pd.read_csv(\n",
    "    'http://download-data.deutschebahn.com/static/datasets/haltestellen/D_Bahnhof_2017_09.csv',\n",
    "    sep = ';', # Separator default is \",\"\n",
    "    decimal=\",\") # German decimal separator"
   ]
  },
  {
   "attachments": {},
   "cell_type": "markdown",
   "metadata": {},
   "source": [
    "It is a good idea to initially look at the import in order to know the structure, i.e. column names and data fields. This is where ```df.head()```comes in handy:"
   ]
  },
  {
   "cell_type": "code",
   "execution_count": 5,
   "metadata": {},
   "outputs": [
    {
     "data": {
      "text/html": [
       "<div>\n",
       "<style scoped>\n",
       "    .dataframe tbody tr th:only-of-type {\n",
       "        vertical-align: middle;\n",
       "    }\n",
       "\n",
       "    .dataframe tbody tr th {\n",
       "        vertical-align: top;\n",
       "    }\n",
       "\n",
       "    .dataframe thead th {\n",
       "        text-align: right;\n",
       "    }\n",
       "</style>\n",
       "<table border=\"1\" class=\"dataframe\">\n",
       "  <thead>\n",
       "    <tr style=\"text-align: right;\">\n",
       "      <th></th>\n",
       "      <th>EVA_NR</th>\n",
       "      <th>DS100</th>\n",
       "      <th>IFOPT</th>\n",
       "      <th>NAME</th>\n",
       "      <th>VERKEHR</th>\n",
       "      <th>LAENGE</th>\n",
       "      <th>BREITE</th>\n",
       "      <th>STATUS</th>\n",
       "    </tr>\n",
       "  </thead>\n",
       "  <tbody>\n",
       "    <tr>\n",
       "      <th>0</th>\n",
       "      <td>8000001</td>\n",
       "      <td>KA</td>\n",
       "      <td>de:05334:1008</td>\n",
       "      <td>Aachen Hbf</td>\n",
       "      <td>FV</td>\n",
       "      <td>6.091499</td>\n",
       "      <td>50.767800</td>\n",
       "      <td>NaN</td>\n",
       "    </tr>\n",
       "    <tr>\n",
       "      <th>1</th>\n",
       "      <td>8000002</td>\n",
       "      <td>TA</td>\n",
       "      <td>de:08136:1000</td>\n",
       "      <td>Aalen Hbf</td>\n",
       "      <td>FV</td>\n",
       "      <td>10.096271</td>\n",
       "      <td>48.841013</td>\n",
       "      <td>NaN</td>\n",
       "    </tr>\n",
       "    <tr>\n",
       "      <th>2</th>\n",
       "      <td>8000004</td>\n",
       "      <td>HA</td>\n",
       "      <td>de:05774:7131</td>\n",
       "      <td>Altenbeken</td>\n",
       "      <td>FV</td>\n",
       "      <td>8.943319</td>\n",
       "      <td>51.766433</td>\n",
       "      <td>NaN</td>\n",
       "    </tr>\n",
       "    <tr>\n",
       "      <th>3</th>\n",
       "      <td>8000007</td>\n",
       "      <td>FALZ</td>\n",
       "      <td>de:07331:55</td>\n",
       "      <td>Alzey</td>\n",
       "      <td>RV</td>\n",
       "      <td>8.109749</td>\n",
       "      <td>49.750200</td>\n",
       "      <td>NaN</td>\n",
       "    </tr>\n",
       "    <tr>\n",
       "      <th>4</th>\n",
       "      <td>8000009</td>\n",
       "      <td>NAN</td>\n",
       "      <td>de:09561:11000</td>\n",
       "      <td>Ansbach</td>\n",
       "      <td>FV</td>\n",
       "      <td>10.578239</td>\n",
       "      <td>49.298032</td>\n",
       "      <td>NaN</td>\n",
       "    </tr>\n",
       "  </tbody>\n",
       "</table>\n",
       "</div>"
      ],
      "text/plain": [
       "    EVA_NR DS100           IFOPT        NAME VERKEHR     LAENGE     BREITE  \\\n",
       "0  8000001    KA   de:05334:1008  Aachen Hbf      FV   6.091499  50.767800   \n",
       "1  8000002    TA   de:08136:1000   Aalen Hbf      FV  10.096271  48.841013   \n",
       "2  8000004    HA   de:05774:7131  Altenbeken      FV   8.943319  51.766433   \n",
       "3  8000007  FALZ     de:07331:55       Alzey      RV   8.109749  49.750200   \n",
       "4  8000009   NAN  de:09561:11000     Ansbach      FV  10.578239  49.298032   \n",
       "\n",
       "  STATUS  \n",
       "0    NaN  \n",
       "1    NaN  \n",
       "2    NaN  \n",
       "3    NaN  \n",
       "4    NaN  "
      ]
     },
     "execution_count": 5,
     "metadata": {},
     "output_type": "execute_result"
    }
   ],
   "source": [
    "df.head()"
   ]
  },
  {
   "attachments": {},
   "cell_type": "markdown",
   "metadata": {},
   "source": [
    "The pandas syntax allows for very efficient filtering of the data. In order to access only a single column, we can use ```df[column_name]``` where ```column_name```is one of the above columns:"
   ]
  },
  {
   "cell_type": "code",
   "execution_count": 6,
   "metadata": {},
   "outputs": [
    {
     "data": {
      "text/plain": [
       "0    Aachen Hbf\n",
       "1     Aalen Hbf\n",
       "2    Altenbeken\n",
       "3         Alzey\n",
       "4       Ansbach\n",
       "Name: NAME, dtype: object"
      ]
     },
     "execution_count": 6,
     "metadata": {},
     "output_type": "execute_result"
    }
   ],
   "source": [
    "df['NAME'].head()"
   ]
  },
  {
   "attachments": {},
   "cell_type": "markdown",
   "metadata": {},
   "source": [
    "To quickly learn about the data set at hand, we can use inbuilt functions:\n",
    "\n",
    "- ```df.describe()``` - mostly for numerical data\n",
    "- ```df.info()``` to provide information on columns and data types"
   ]
  },
  {
   "cell_type": "code",
   "execution_count": 7,
   "metadata": {},
   "outputs": [
    {
     "data": {
      "text/html": [
       "<div>\n",
       "<style scoped>\n",
       "    .dataframe tbody tr th:only-of-type {\n",
       "        vertical-align: middle;\n",
       "    }\n",
       "\n",
       "    .dataframe tbody tr th {\n",
       "        vertical-align: top;\n",
       "    }\n",
       "\n",
       "    .dataframe thead th {\n",
       "        text-align: right;\n",
       "    }\n",
       "</style>\n",
       "<table border=\"1\" class=\"dataframe\">\n",
       "  <thead>\n",
       "    <tr style=\"text-align: right;\">\n",
       "      <th></th>\n",
       "      <th>EVA_NR</th>\n",
       "      <th>LAENGE</th>\n",
       "      <th>BREITE</th>\n",
       "    </tr>\n",
       "  </thead>\n",
       "  <tbody>\n",
       "    <tr>\n",
       "      <th>count</th>\n",
       "      <td>6.605000e+03</td>\n",
       "      <td>6605.000000</td>\n",
       "      <td>6605.000000</td>\n",
       "    </tr>\n",
       "    <tr>\n",
       "      <th>mean</th>\n",
       "      <td>8.011959e+06</td>\n",
       "      <td>10.118460</td>\n",
       "      <td>50.612732</td>\n",
       "    </tr>\n",
       "    <tr>\n",
       "      <th>std</th>\n",
       "      <td>2.077004e+04</td>\n",
       "      <td>2.163707</td>\n",
       "      <td>1.729873</td>\n",
       "    </tr>\n",
       "    <tr>\n",
       "      <th>min</th>\n",
       "      <td>8.000001e+06</td>\n",
       "      <td>6.070715</td>\n",
       "      <td>47.411032</td>\n",
       "    </tr>\n",
       "    <tr>\n",
       "      <th>25%</th>\n",
       "      <td>8.002458e+06</td>\n",
       "      <td>8.398251</td>\n",
       "      <td>49.209151</td>\n",
       "    </tr>\n",
       "    <tr>\n",
       "      <th>50%</th>\n",
       "      <td>8.005264e+06</td>\n",
       "      <td>9.871195</td>\n",
       "      <td>50.703920</td>\n",
       "    </tr>\n",
       "    <tr>\n",
       "      <th>75%</th>\n",
       "      <td>8.011545e+06</td>\n",
       "      <td>11.902879</td>\n",
       "      <td>51.730323</td>\n",
       "    </tr>\n",
       "    <tr>\n",
       "      <th>max</th>\n",
       "      <td>8.099507e+06</td>\n",
       "      <td>14.979080</td>\n",
       "      <td>54.906839</td>\n",
       "    </tr>\n",
       "  </tbody>\n",
       "</table>\n",
       "</div>"
      ],
      "text/plain": [
       "             EVA_NR       LAENGE       BREITE\n",
       "count  6.605000e+03  6605.000000  6605.000000\n",
       "mean   8.011959e+06    10.118460    50.612732\n",
       "std    2.077004e+04     2.163707     1.729873\n",
       "min    8.000001e+06     6.070715    47.411032\n",
       "25%    8.002458e+06     8.398251    49.209151\n",
       "50%    8.005264e+06     9.871195    50.703920\n",
       "75%    8.011545e+06    11.902879    51.730323\n",
       "max    8.099507e+06    14.979080    54.906839"
      ]
     },
     "execution_count": 7,
     "metadata": {},
     "output_type": "execute_result"
    }
   ],
   "source": [
    "df.describe()"
   ]
  },
  {
   "cell_type": "code",
   "execution_count": 8,
   "metadata": {},
   "outputs": [
    {
     "name": "stdout",
     "output_type": "stream",
     "text": [
      "<class 'pandas.core.frame.DataFrame'>\n",
      "RangeIndex: 6605 entries, 0 to 6604\n",
      "Data columns (total 8 columns):\n",
      " #   Column   Non-Null Count  Dtype  \n",
      "---  ------   --------------  -----  \n",
      " 0   EVA_NR   6605 non-null   int64  \n",
      " 1   DS100    6567 non-null   object \n",
      " 2   IFOPT    6562 non-null   object \n",
      " 3   NAME     6605 non-null   object \n",
      " 4   VERKEHR  6605 non-null   object \n",
      " 5   LAENGE   6605 non-null   float64\n",
      " 6   BREITE   6605 non-null   float64\n",
      " 7   STATUS   111 non-null    object \n",
      "dtypes: float64(2), int64(1), object(5)\n",
      "memory usage: 412.9+ KB\n"
     ]
    }
   ],
   "source": [
    "df.info()"
   ]
  },
  {
   "attachments": {},
   "cell_type": "markdown",
   "metadata": {},
   "source": [
    "## Exercise\n",
    "\n",
    "Display the **DS100** column of the dataset only. "
   ]
  },
  {
   "cell_type": "code",
   "execution_count": null,
   "metadata": {},
   "outputs": [],
   "source": []
  },
  {
   "attachments": {},
   "cell_type": "markdown",
   "metadata": {},
   "source": [
    "It also possible to filter for certain content, e.g. to find the names of all long distance stations (showing 'FV' in the 'VERKEHR'-column):"
   ]
  },
  {
   "cell_type": "code",
   "execution_count": 9,
   "metadata": {},
   "outputs": [
    {
     "data": {
      "text/plain": [
       "0        True\n",
       "1        True\n",
       "2        True\n",
       "3       False\n",
       "4        True\n",
       "        ...  \n",
       "6600    False\n",
       "6601    False\n",
       "6602    False\n",
       "6603    False\n",
       "6604    False\n",
       "Name: VERKEHR, Length: 6605, dtype: bool"
      ]
     },
     "execution_count": 9,
     "metadata": {},
     "output_type": "execute_result"
    }
   ],
   "source": [
    "df['VERKEHR'] == 'FV'"
   ]
  },
  {
   "attachments": {},
   "cell_type": "markdown",
   "metadata": {},
   "source": [
    "Luckily, pandas DataFrames accept this list of True/False as argument to restrict the returned values:"
   ]
  },
  {
   "cell_type": "code",
   "execution_count": 10,
   "metadata": {},
   "outputs": [
    {
     "data": {
      "text/html": [
       "<div>\n",
       "<style scoped>\n",
       "    .dataframe tbody tr th:only-of-type {\n",
       "        vertical-align: middle;\n",
       "    }\n",
       "\n",
       "    .dataframe tbody tr th {\n",
       "        vertical-align: top;\n",
       "    }\n",
       "\n",
       "    .dataframe thead th {\n",
       "        text-align: right;\n",
       "    }\n",
       "</style>\n",
       "<table border=\"1\" class=\"dataframe\">\n",
       "  <thead>\n",
       "    <tr style=\"text-align: right;\">\n",
       "      <th></th>\n",
       "      <th>EVA_NR</th>\n",
       "      <th>DS100</th>\n",
       "      <th>IFOPT</th>\n",
       "      <th>NAME</th>\n",
       "      <th>VERKEHR</th>\n",
       "      <th>LAENGE</th>\n",
       "      <th>BREITE</th>\n",
       "      <th>STATUS</th>\n",
       "    </tr>\n",
       "  </thead>\n",
       "  <tbody>\n",
       "    <tr>\n",
       "      <th>0</th>\n",
       "      <td>8000001</td>\n",
       "      <td>KA</td>\n",
       "      <td>de:05334:1008</td>\n",
       "      <td>Aachen Hbf</td>\n",
       "      <td>FV</td>\n",
       "      <td>6.091499</td>\n",
       "      <td>50.767800</td>\n",
       "      <td>NaN</td>\n",
       "    </tr>\n",
       "    <tr>\n",
       "      <th>1</th>\n",
       "      <td>8000002</td>\n",
       "      <td>TA</td>\n",
       "      <td>de:08136:1000</td>\n",
       "      <td>Aalen Hbf</td>\n",
       "      <td>FV</td>\n",
       "      <td>10.096271</td>\n",
       "      <td>48.841013</td>\n",
       "      <td>NaN</td>\n",
       "    </tr>\n",
       "    <tr>\n",
       "      <th>2</th>\n",
       "      <td>8000004</td>\n",
       "      <td>HA</td>\n",
       "      <td>de:05774:7131</td>\n",
       "      <td>Altenbeken</td>\n",
       "      <td>FV</td>\n",
       "      <td>8.943319</td>\n",
       "      <td>51.766433</td>\n",
       "      <td>NaN</td>\n",
       "    </tr>\n",
       "    <tr>\n",
       "      <th>4</th>\n",
       "      <td>8000009</td>\n",
       "      <td>NAN</td>\n",
       "      <td>de:09561:11000</td>\n",
       "      <td>Ansbach</td>\n",
       "      <td>FV</td>\n",
       "      <td>10.578239</td>\n",
       "      <td>49.298032</td>\n",
       "      <td>NaN</td>\n",
       "    </tr>\n",
       "    <tr>\n",
       "      <th>5</th>\n",
       "      <td>8000010</td>\n",
       "      <td>NAH</td>\n",
       "      <td>de:09661:99082</td>\n",
       "      <td>Aschaffenburg Hbf</td>\n",
       "      <td>FV</td>\n",
       "      <td>9.143697</td>\n",
       "      <td>49.980557</td>\n",
       "      <td>NaN</td>\n",
       "    </tr>\n",
       "  </tbody>\n",
       "</table>\n",
       "</div>"
      ],
      "text/plain": [
       "    EVA_NR DS100           IFOPT               NAME VERKEHR     LAENGE  \\\n",
       "0  8000001    KA   de:05334:1008         Aachen Hbf      FV   6.091499   \n",
       "1  8000002    TA   de:08136:1000          Aalen Hbf      FV  10.096271   \n",
       "2  8000004    HA   de:05774:7131         Altenbeken      FV   8.943319   \n",
       "4  8000009   NAN  de:09561:11000            Ansbach      FV  10.578239   \n",
       "5  8000010   NAH  de:09661:99082  Aschaffenburg Hbf      FV   9.143697   \n",
       "\n",
       "      BREITE STATUS  \n",
       "0  50.767800    NaN  \n",
       "1  48.841013    NaN  \n",
       "2  51.766433    NaN  \n",
       "4  49.298032    NaN  \n",
       "5  49.980557    NaN  "
      ]
     },
     "execution_count": 10,
     "metadata": {},
     "output_type": "execute_result"
    }
   ],
   "source": [
    "df[df['VERKEHR'] == 'FV'].head()"
   ]
  },
  {
   "attachments": {},
   "cell_type": "markdown",
   "metadata": {},
   "source": [
    "By adding a second argument in square brackets, we can return only the columns we are interested in:"
   ]
  },
  {
   "cell_type": "code",
   "execution_count": 11,
   "metadata": {},
   "outputs": [
    {
     "data": {
      "text/plain": [
       "0     KA\n",
       "1     TA\n",
       "2     HA\n",
       "4    NAN\n",
       "5    NAH\n",
       "Name: DS100, dtype: object"
      ]
     },
     "execution_count": 11,
     "metadata": {},
     "output_type": "execute_result"
    }
   ],
   "source": [
    "df[df['VERKEHR'] == 'FV']['DS100'].head()"
   ]
  },
  {
   "attachments": {},
   "cell_type": "markdown",
   "metadata": {},
   "source": [
    "This can be used in many ways, e.g. to count how many long distance stations there are in Germany?"
   ]
  },
  {
   "cell_type": "code",
   "execution_count": 12,
   "metadata": {},
   "outputs": [
    {
     "data": {
      "text/plain": [
       "348"
      ]
     },
     "execution_count": 12,
     "metadata": {},
     "output_type": "execute_result"
    }
   ],
   "source": [
    "df[df['VERKEHR'] == 'FV']['NAME'].count() #It suffices to count one colum only..."
   ]
  },
  {
   "attachments": {},
   "cell_type": "markdown",
   "metadata": {},
   "source": [
    "By concatenating multiple commands, we can list all stations with Berlin in their name."
   ]
  },
  {
   "cell_type": "code",
   "execution_count": 13,
   "metadata": {},
   "outputs": [
    {
     "data": {
      "text/plain": [
       "697            Hamburg Berliner Tor\n",
       "4370              Berlin-Karlshorst\n",
       "4371             Berlin-Lichtenberg\n",
       "4373             Berlin-Schöneweide\n",
       "4425    Berlin-Schönefeld Flughafen\n",
       "4541              Berlin Ostbahnhof\n",
       "4657          Berlin-Charlottenburg\n",
       "4658                 Berlin-Spandau\n",
       "4659                 Berlin Wannsee\n",
       "4660     Berlin Zoologischer Garten\n",
       "Name: NAME, dtype: object"
      ]
     },
     "execution_count": 13,
     "metadata": {},
     "output_type": "execute_result"
    }
   ],
   "source": [
    "df[df['NAME'].str.contains('Berlin')]['NAME'].head(10) \n",
    "# Notice we can have more lines displayed"
   ]
  },
  {
   "attachments": {},
   "cell_type": "markdown",
   "metadata": {},
   "source": [
    "Name, Latitude and Longitude of 'Berlin' Stations - most of them are actually in Berlin..."
   ]
  },
  {
   "cell_type": "code",
   "execution_count": 14,
   "metadata": {},
   "outputs": [
    {
     "data": {
      "text/html": [
       "<div>\n",
       "<style scoped>\n",
       "    .dataframe tbody tr th:only-of-type {\n",
       "        vertical-align: middle;\n",
       "    }\n",
       "\n",
       "    .dataframe tbody tr th {\n",
       "        vertical-align: top;\n",
       "    }\n",
       "\n",
       "    .dataframe thead th {\n",
       "        text-align: right;\n",
       "    }\n",
       "</style>\n",
       "<table border=\"1\" class=\"dataframe\">\n",
       "  <thead>\n",
       "    <tr style=\"text-align: right;\">\n",
       "      <th></th>\n",
       "      <th>NAME</th>\n",
       "      <th>LAENGE</th>\n",
       "      <th>BREITE</th>\n",
       "    </tr>\n",
       "  </thead>\n",
       "  <tbody>\n",
       "    <tr>\n",
       "      <th>697</th>\n",
       "      <td>Hamburg Berliner Tor</td>\n",
       "      <td>10.024630</td>\n",
       "      <td>53.552870</td>\n",
       "    </tr>\n",
       "    <tr>\n",
       "      <th>4370</th>\n",
       "      <td>Berlin-Karlshorst</td>\n",
       "      <td>13.526813</td>\n",
       "      <td>52.480681</td>\n",
       "    </tr>\n",
       "    <tr>\n",
       "      <th>4371</th>\n",
       "      <td>Berlin-Lichtenberg</td>\n",
       "      <td>13.496923</td>\n",
       "      <td>52.509896</td>\n",
       "    </tr>\n",
       "    <tr>\n",
       "      <th>4373</th>\n",
       "      <td>Berlin-Schöneweide</td>\n",
       "      <td>13.509395</td>\n",
       "      <td>52.455127</td>\n",
       "    </tr>\n",
       "    <tr>\n",
       "      <th>4425</th>\n",
       "      <td>Berlin-Schönefeld Flughafen</td>\n",
       "      <td>13.512710</td>\n",
       "      <td>52.391062</td>\n",
       "    </tr>\n",
       "  </tbody>\n",
       "</table>\n",
       "</div>"
      ],
      "text/plain": [
       "                             NAME     LAENGE     BREITE\n",
       "697          Hamburg Berliner Tor  10.024630  53.552870\n",
       "4370            Berlin-Karlshorst  13.526813  52.480681\n",
       "4371           Berlin-Lichtenberg  13.496923  52.509896\n",
       "4373           Berlin-Schöneweide  13.509395  52.455127\n",
       "4425  Berlin-Schönefeld Flughafen  13.512710  52.391062"
      ]
     },
     "execution_count": 14,
     "metadata": {},
     "output_type": "execute_result"
    }
   ],
   "source": [
    "# Filter and save returned dataframe in new variable:\n",
    "df2 = df[df['NAME'].str.contains('Berlin')][['NAME', 'LAENGE', 'BREITE']]\n",
    "# Display the first few lines:\n",
    "df2.head()"
   ]
  },
  {
   "attachments": {},
   "cell_type": "markdown",
   "metadata": {},
   "source": [
    "We can use the ```sort_values```to find southernmost 'Berlin' station. Here, ```inplace``` means that we manipulate the variable in memory. While this is not critical for smaller data sets, Pandas is generally open for Terabytes where the additional memory would hurt."
   ]
  },
  {
   "cell_type": "code",
   "execution_count": 15,
   "metadata": {},
   "outputs": [
    {
     "data": {
      "text/html": [
       "<div>\n",
       "<style scoped>\n",
       "    .dataframe tbody tr th:only-of-type {\n",
       "        vertical-align: middle;\n",
       "    }\n",
       "\n",
       "    .dataframe tbody tr th {\n",
       "        vertical-align: top;\n",
       "    }\n",
       "\n",
       "    .dataframe thead th {\n",
       "        text-align: right;\n",
       "    }\n",
       "</style>\n",
       "<table border=\"1\" class=\"dataframe\">\n",
       "  <thead>\n",
       "    <tr style=\"text-align: right;\">\n",
       "      <th></th>\n",
       "      <th>NAME</th>\n",
       "      <th>LAENGE</th>\n",
       "      <th>BREITE</th>\n",
       "    </tr>\n",
       "  </thead>\n",
       "  <tbody>\n",
       "    <tr>\n",
       "      <th>6434</th>\n",
       "      <td>Berlin-Lichtenrade</td>\n",
       "      <td>13.396175</td>\n",
       "      <td>52.387297</td>\n",
       "    </tr>\n",
       "    <tr>\n",
       "      <th>4425</th>\n",
       "      <td>Berlin-Schönefeld Flughafen</td>\n",
       "      <td>13.512710</td>\n",
       "      <td>52.391062</td>\n",
       "    </tr>\n",
       "    <tr>\n",
       "      <th>6405</th>\n",
       "      <td>Berlin Schichauweg</td>\n",
       "      <td>13.389303</td>\n",
       "      <td>52.398837</td>\n",
       "    </tr>\n",
       "    <tr>\n",
       "      <th>6384</th>\n",
       "      <td>Berlin Grünbergallee</td>\n",
       "      <td>13.542485</td>\n",
       "      <td>52.399411</td>\n",
       "    </tr>\n",
       "    <tr>\n",
       "      <th>6420</th>\n",
       "      <td>Berlin-Altglienicke</td>\n",
       "      <td>13.558753</td>\n",
       "      <td>52.407299</td>\n",
       "    </tr>\n",
       "  </tbody>\n",
       "</table>\n",
       "</div>"
      ],
      "text/plain": [
       "                             NAME     LAENGE     BREITE\n",
       "6434           Berlin-Lichtenrade  13.396175  52.387297\n",
       "4425  Berlin-Schönefeld Flughafen  13.512710  52.391062\n",
       "6405           Berlin Schichauweg  13.389303  52.398837\n",
       "6384         Berlin Grünbergallee  13.542485  52.399411\n",
       "6420          Berlin-Altglienicke  13.558753  52.407299"
      ]
     },
     "execution_count": 15,
     "metadata": {},
     "output_type": "execute_result"
    }
   ],
   "source": [
    "df2.sort_values('BREITE', inplace = True, ascending = True)\n",
    "df2.head()"
   ]
  },
  {
   "attachments": {},
   "cell_type": "markdown",
   "metadata": {},
   "source": [
    "It is possible to export the resulting data frames, e.g. to JSON (```df2.to_json('filename.json')```) or to Excel."
   ]
  },
  {
   "cell_type": "code",
   "execution_count": 16,
   "metadata": {},
   "outputs": [],
   "source": [
    "df2.to_excel('BerlinStations.xlsx')"
   ]
  },
  {
   "attachments": {},
   "cell_type": "markdown",
   "metadata": {},
   "source": [
    "Alternatively, we can read data from AWS cloud storage (S3) - in this case we use test data of our railway challenge locomotive *Emma*.\n",
    "\n",
    "The dataset contains:\n",
    "\n",
    "- $x$: Longitude\n",
    "- $y$: Latitude\n",
    "- $z$: Altitude (m above sea level)\n",
    "- $v$: velocity (m/s)\n",
    "\n",
    "All data recorded in $1$ Hz frequency using an iPad-GPS."
   ]
  },
  {
   "cell_type": "code",
   "execution_count": 17,
   "metadata": {},
   "outputs": [],
   "source": [
    "df = pd.read_json('https://r10f.com/data/emma1000.json')"
   ]
  },
  {
   "cell_type": "code",
   "execution_count": 18,
   "metadata": {},
   "outputs": [
    {
     "data": {
      "text/html": [
       "<div>\n",
       "<style scoped>\n",
       "    .dataframe tbody tr th:only-of-type {\n",
       "        vertical-align: middle;\n",
       "    }\n",
       "\n",
       "    .dataframe tbody tr th {\n",
       "        vertical-align: top;\n",
       "    }\n",
       "\n",
       "    .dataframe thead th {\n",
       "        text-align: right;\n",
       "    }\n",
       "</style>\n",
       "<table border=\"1\" class=\"dataframe\">\n",
       "  <thead>\n",
       "    <tr style=\"text-align: right;\">\n",
       "      <th></th>\n",
       "      <th>y</th>\n",
       "      <th>x</th>\n",
       "      <th>z</th>\n",
       "      <th>v</th>\n",
       "    </tr>\n",
       "  </thead>\n",
       "  <tbody>\n",
       "    <tr>\n",
       "      <th>0</th>\n",
       "      <td>47.992597</td>\n",
       "      <td>9.678717</td>\n",
       "      <td>557.519958</td>\n",
       "      <td>-1.0</td>\n",
       "    </tr>\n",
       "    <tr>\n",
       "      <th>1</th>\n",
       "      <td>47.992597</td>\n",
       "      <td>9.678717</td>\n",
       "      <td>557.519958</td>\n",
       "      <td>-1.0</td>\n",
       "    </tr>\n",
       "    <tr>\n",
       "      <th>2</th>\n",
       "      <td>47.992538</td>\n",
       "      <td>9.678639</td>\n",
       "      <td>561.268433</td>\n",
       "      <td>0.0</td>\n",
       "    </tr>\n",
       "    <tr>\n",
       "      <th>3</th>\n",
       "      <td>47.992538</td>\n",
       "      <td>9.678639</td>\n",
       "      <td>561.268433</td>\n",
       "      <td>0.0</td>\n",
       "    </tr>\n",
       "    <tr>\n",
       "      <th>4</th>\n",
       "      <td>47.992538</td>\n",
       "      <td>9.678639</td>\n",
       "      <td>562.678432</td>\n",
       "      <td>0.0</td>\n",
       "    </tr>\n",
       "  </tbody>\n",
       "</table>\n",
       "</div>"
      ],
      "text/plain": [
       "           y         x           z    v\n",
       "0  47.992597  9.678717  557.519958 -1.0\n",
       "1  47.992597  9.678717  557.519958 -1.0\n",
       "2  47.992538  9.678639  561.268433  0.0\n",
       "3  47.992538  9.678639  561.268433  0.0\n",
       "4  47.992538  9.678639  562.678432  0.0"
      ]
     },
     "execution_count": 18,
     "metadata": {},
     "output_type": "execute_result"
    }
   ],
   "source": [
    "df.head()"
   ]
  },
  {
   "attachments": {},
   "cell_type": "markdown",
   "metadata": {},
   "source": [
    "By using the ```plot()```-function, we can obtain a rough estimate of the velocity distribution."
   ]
  },
  {
   "cell_type": "code",
   "execution_count": 19,
   "metadata": {},
   "outputs": [
    {
     "data": {
      "text/plain": [
       "<matplotlib.axes._subplots.AxesSubplot at 0x7fa1c843d460>"
      ]
     },
     "execution_count": 19,
     "metadata": {},
     "output_type": "execute_result"
    },
    {
     "data": {
      "image/png": "[encoded data removed]",
      "text/plain": [
       "<Figure size 432x288 with 1 Axes>"
      ]
     },
     "metadata": {
      "needs_background": "light"
     },
     "output_type": "display_data"
    }
   ],
   "source": [
    "df['v'].plot()"
   ]
  },
  {
   "attachments": {},
   "cell_type": "markdown",
   "metadata": {},
   "source": [
    "Apparently, the GPS has $v = -1$-readings as long as it is acquiring a position. We filter these out:"
   ]
  },
  {
   "cell_type": "code",
   "execution_count": 20,
   "metadata": {},
   "outputs": [
    {
     "data": {
      "text/plain": [
       "<matplotlib.axes._subplots.AxesSubplot at 0x7fa1f8c1b160>"
      ]
     },
     "execution_count": 20,
     "metadata": {},
     "output_type": "execute_result"
    },
    {
     "data": {
      "image/png": "[encoded data removed]",
      "text/plain": [
       "<Figure size 432x288 with 1 Axes>"
      ]
     },
     "metadata": {
      "needs_background": "light"
     },
     "output_type": "display_data"
    }
   ],
   "source": [
    "df[df['v'] >= 0]['v'].plot()"
   ]
  },
  {
   "attachments": {},
   "cell_type": "markdown",
   "metadata": {},
   "source": [
    "## Exercise:\n",
    "\n",
    "1. Load the open data set on platform height and length from: http://download-data.deutschebahn.com/static/datasets/bahnsteig/DBSuS-Bahnsteigdaten-Stand2020-03.csv\n",
    "1. Inspect the dataset\n",
    "1. Find the longest (```df[column_name].max()```) and shortest() (```df[column_name].min()```) platform length ('Netto-baulänge (m)')\n",
    "1. Find the associated station number ('Bahnhofsnummer')\n",
    "\n",
    "Extra task: obtain the name by integrating with http://download-data.deutschebahn.com/static/datasets/stationsdaten/DBSuS-Uebersicht_Bahnhoefe-Stand2020-03.csv!\n",
    "\n",
    "Hint: use ```list()``` to obtain return values and access the $0$-th element to obtain a numeric value."
   ]
  },
  {
   "cell_type": "code",
   "execution_count": null,
   "metadata": {},
   "outputs": [],
   "source": []
  }
 ],
 "metadata": {
  "kernelspec": {
   "display_name": "Python 3",
   "language": "python",
   "name": "python3"
  },
  "language_info": {
   "codemirror_mode": {
    "name": "ipython",
    "version": 3
   },
   "file_extension": ".py",
   "mimetype": "text/x-python",
   "name": "python",
   "nbconvert_exporter": "python",
   "pygments_lexer": "ipython3",
   "version": "3.8.3"
  }
 },
 "nbformat": 4,
 "nbformat_minor": 2
}
