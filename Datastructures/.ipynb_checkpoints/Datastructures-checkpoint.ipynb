{
 "cells": [
  {
   "cell_type": "markdown",
   "metadata": {},
   "source": [
    "# Basic data types and structures in Python"
   ]
  },
  {
   "cell_type": "markdown",
   "metadata": {},
   "source": [
    "## Typing:"
   ]
  },
  {
   "cell_type": "markdown",
   "metadata": {},
   "source": [
    "Python is a dynamically typed language, i.e. there is no declaration of variable type required."
   ]
  },
  {
   "cell_type": "code",
   "execution_count": 1,
   "metadata": {},
   "outputs": [
    {
     "name": "stdout",
     "output_type": "stream",
     "text": [
      "five: <class 'str'>\n",
      "5: <class 'int'>\n"
     ]
    }
   ],
   "source": [
    "x = 'five'\n",
    "print(x +': '+ str(type(x)))\n",
    "x = 5\n",
    "print(str(x)+': '+ str(type(x)))"
   ]
  },
  {
   "cell_type": "markdown",
   "metadata": {},
   "source": [
    "---\n",
    "\n",
    "## Numbers:\n",
    "\n",
    "Python (without additional packages) supports:\n",
    "\n",
    "- Integers: ```x = 1```\n",
    "- Floats: ```x = 1.0```or ```x=1e-12```\n",
    "- Complex numbers: ```z=1+2j```"
   ]
  },
  {
   "cell_type": "code",
   "execution_count": 2,
   "metadata": {},
   "outputs": [
    {
     "name": "stdout",
     "output_type": "stream",
     "text": [
      "1\n",
      "1.5\n",
      "(1+2j)\n",
      "Result is in superclass, x+y=\n",
      "2.5\n",
      "Result is in superclass, x+y+z=\n",
      "(3.5+2j)\n"
     ]
    }
   ],
   "source": [
    "# Define some numbers and print them\n",
    "x = 1\n",
    "print(x)\n",
    "y = 1.5\n",
    "print(y)\n",
    "z = 1+2j\n",
    "print(z)\n",
    "\n",
    "# Calculate a bit:\n",
    "print('Result is in superclass, x+y=')\n",
    "print(x+y)\n",
    "print('Result is in superclass, x+y+z=')\n",
    "print(x+y+z)"
   ]
  },
  {
   "cell_type": "markdown",
   "metadata": {},
   "source": [
    "### Type conversions:\n",
    "\n",
    "It is possible to convert between the number types by explicit operations:\n",
    "\n",
    "- Integer to float\n",
    "- Float to integer\n",
    "- Float or integer to complex"
   ]
  },
  {
   "cell_type": "code",
   "execution_count": 3,
   "metadata": {},
   "outputs": [
    {
     "name": "stdout",
     "output_type": "stream",
     "text": [
      "1.0\n",
      "1\n",
      "(1+0j)\n",
      "(1.5+0j)\n"
     ]
    }
   ],
   "source": [
    "print(float(x))\n",
    "print(int(y))\n",
    "print(complex(x))\n",
    "print(complex(y))"
   ]
  },
  {
   "cell_type": "markdown",
   "metadata": {},
   "source": [
    "### Boolean:\n",
    "\n",
    "Can take ```True```or ```False```, however can be use similar to numbers $1$ and $0$:"
   ]
  },
  {
   "cell_type": "code",
   "execution_count": 4,
   "metadata": {},
   "outputs": [
    {
     "data": {
      "text/plain": [
       "11"
      ]
     },
     "execution_count": 4,
     "metadata": {},
     "output_type": "execute_result"
    }
   ],
   "source": [
    "A = True\n",
    "B = False\n",
    "11*A + 7*B"
   ]
  },
  {
   "cell_type": "markdown",
   "metadata": {},
   "source": [
    "---\n",
    "\n",
    "## Strings:\n",
    "\n",
    "Strings are arrays of letters, so single parts of texts can be addressed. Declare by either ```\"string\"```or ```'string'```."
   ]
  },
  {
   "cell_type": "code",
   "execution_count": 5,
   "metadata": {},
   "outputs": [
    {
     "name": "stdout",
     "output_type": "stream",
     "text": [
      "John\n",
      "oh\n",
      "4\n"
     ]
    }
   ],
   "source": [
    "text = \"John\"\n",
    "print(text)\n",
    "print(text[1:3]) # Strings are list of letters, here second and third are selected\n",
    "print(len(text)) # How long is John's name?"
   ]
  },
  {
   "cell_type": "markdown",
   "metadata": {},
   "source": [
    "Concatenate two strings by using ```string1 + string2```"
   ]
  },
  {
   "cell_type": "code",
   "execution_count": 6,
   "metadata": {},
   "outputs": [
    {
     "name": "stdout",
     "output_type": "stream",
     "text": [
      "Hello World!\n"
     ]
    }
   ],
   "source": [
    "string1 = 'Hello ' #Observe the space\n",
    "string2 = 'World!'\n",
    "string12 = string1 + string2\n",
    "print(string12)"
   ]
  },
  {
   "cell_type": "markdown",
   "metadata": {},
   "source": [
    "Convert number to string (e.g. for printing):"
   ]
  },
  {
   "cell_type": "code",
   "execution_count": 7,
   "metadata": {},
   "outputs": [
    {
     "name": "stdout",
     "output_type": "stream",
     "text": [
      "Nice convex number: (1+2j)\n"
     ]
    }
   ],
   "source": [
    "convexNumber = str(z)\n",
    "print('Nice convex number: ' + convexNumber)"
   ]
  },
  {
   "cell_type": "markdown",
   "metadata": {},
   "source": [
    "---\n",
    "\n",
    "## Data structures"
   ]
  },
  {
   "cell_type": "markdown",
   "metadata": {},
   "source": [
    "### Lists\n",
    "\n",
    "Lists can be changed after instantiation, i.e. they are considered mutable. Lists may contain any combination of data types (objects in Python therminology).\n",
    "\n",
    "They are constructed using square brackets ```[obj1, ..., objn]```."
   ]
  },
  {
   "cell_type": "code",
   "execution_count": 8,
   "metadata": {},
   "outputs": [
    {
     "name": "stdout",
     "output_type": "stream",
     "text": [
      "['apple', 'banana', 'cherry', 1]\n"
     ]
    }
   ],
   "source": [
    "l = [\"apple\", \"banana\", \"cherry\", 1]\n",
    "print(l)"
   ]
  },
  {
   "cell_type": "markdown",
   "metadata": {},
   "source": [
    "Single items can be addressed in a MATLAB-style syntax, with negative entries being addressed from the end of the list as well as a colon operator (Attention, starts at $0$ and ends **before** $n$-th element!):"
   ]
  },
  {
   "cell_type": "code",
   "execution_count": 9,
   "metadata": {},
   "outputs": [
    {
     "name": "stdout",
     "output_type": "stream",
     "text": [
      "banana\n",
      "1\n",
      "['apple', 'banana', 'cherry']\n"
     ]
    }
   ],
   "source": [
    "print(l[1]) # Print only the second item\n",
    "print(l[-1]) # Final element\n",
    "print(l[0:3]) # First three elements"
   ]
  },
  {
   "cell_type": "markdown",
   "metadata": {},
   "source": [
    "Using ```.append```, it is possible to add an item to the end of the list, very useful in loops."
   ]
  },
  {
   "cell_type": "code",
   "execution_count": 10,
   "metadata": {},
   "outputs": [
    {
     "name": "stdout",
     "output_type": "stream",
     "text": [
      "['apple', 'banana', 'cherry', 1, 'pear']\n"
     ]
    }
   ],
   "source": [
    "l.append('pear') # Append an item\n",
    "print(l)"
   ]
  },
  {
   "cell_type": "markdown",
   "metadata": {},
   "source": [
    "List items can be changed:"
   ]
  },
  {
   "cell_type": "code",
   "execution_count": 11,
   "metadata": {},
   "outputs": [
    {
     "name": "stdout",
     "output_type": "stream",
     "text": [
      "['apple', 'banana', 'cherry', 'orange', 'pear']\n"
     ]
    }
   ],
   "source": [
    "l[3] = 'orange' # Change item 4\n",
    "print(l)"
   ]
  },
  {
   "cell_type": "markdown",
   "metadata": {},
   "source": [
    "#### Useful list functionalities"
   ]
  },
  {
   "cell_type": "markdown",
   "metadata": {},
   "source": [
    "Loop through lists"
   ]
  },
  {
   "cell_type": "code",
   "execution_count": 12,
   "metadata": {},
   "outputs": [
    {
     "name": "stdout",
     "output_type": "stream",
     "text": [
      "apple\n",
      "banana\n",
      "cherry\n",
      "orange\n",
      "pear\n"
     ]
    }
   ],
   "source": [
    "for x in l:\n",
    "    print(x)"
   ]
  },
  {
   "cell_type": "markdown",
   "metadata": {},
   "source": [
    "Conditional statement based on list"
   ]
  },
  {
   "cell_type": "code",
   "execution_count": 13,
   "metadata": {},
   "outputs": [
    {
     "name": "stdout",
     "output_type": "stream",
     "text": [
      "Yes, 'apple' is in the fruits list\n"
     ]
    }
   ],
   "source": [
    "if \"apple\" in l:\n",
    "    print(\"Yes, 'apple' is in the fruits list\")"
   ]
  },
  {
   "cell_type": "markdown",
   "metadata": {},
   "source": [
    "List length"
   ]
  },
  {
   "cell_type": "code",
   "execution_count": 14,
   "metadata": {},
   "outputs": [
    {
     "data": {
      "text/plain": [
       "5"
      ]
     },
     "execution_count": 14,
     "metadata": {},
     "output_type": "execute_result"
    }
   ],
   "source": [
    "len(l)"
   ]
  },
  {
   "cell_type": "markdown",
   "metadata": {},
   "source": [
    "Create an empty list"
   ]
  },
  {
   "cell_type": "code",
   "execution_count": 15,
   "metadata": {},
   "outputs": [],
   "source": [
    "l2 = []"
   ]
  },
  {
   "cell_type": "markdown",
   "metadata": {},
   "source": [
    "### Tuples\n",
    "\n",
    "Tuples are ordered collections of objects and cannot be changed after instantiation.\n",
    "\n",
    "They are constructed using brackets ```(obj1, ..., objn)```."
   ]
  },
  {
   "cell_type": "code",
   "execution_count": 16,
   "metadata": {},
   "outputs": [
    {
     "name": "stdout",
     "output_type": "stream",
     "text": [
      "('apple', 'banana', 'cherry')\n",
      "banana\n",
      "('banana', 'cherry')\n",
      "cherry\n"
     ]
    }
   ],
   "source": [
    "t = (\"apple\", \"banana\", \"cherry\")\n",
    "print(t)\n",
    "print(t[1]) # Print only the second item\n",
    "print(t[1:3]) # Range of elements\n",
    "print(t[-1]) # Final element\n"
   ]
  },
  {
   "cell_type": "markdown",
   "metadata": {},
   "source": [
    "#### Tuple functionality\n",
    "\n",
    "Similar to lists, it is possible to loop through tuples, to inspect for truth value and to obtain the length of a tuple:"
   ]
  },
  {
   "cell_type": "code",
   "execution_count": 17,
   "metadata": {},
   "outputs": [
    {
     "name": "stdout",
     "output_type": "stream",
     "text": [
      "apple\n",
      "banana\n",
      "cherry\n",
      "There is apple in the tuple!\n"
     ]
    },
    {
     "data": {
      "text/plain": [
       "3"
      ]
     },
     "execution_count": 17,
     "metadata": {},
     "output_type": "execute_result"
    }
   ],
   "source": [
    "for x in t:\n",
    "    print(x)\n",
    "\n",
    "if 'apple' in t:\n",
    "    print('There is apple in the tuple!')\n",
    "    \n",
    "len(t)"
   ]
  },
  {
   "cell_type": "markdown",
   "metadata": {},
   "source": [
    "### Sets\n",
    "Sets are unordered data structures that can be changed after instantiation. They support certain set operations such as ```union()``` and ```intersection()```.\n",
    "\n",
    "They are constructed using curly brackets ```{obj1, ..., objn}```."
   ]
  },
  {
   "cell_type": "code",
   "execution_count": 18,
   "metadata": {},
   "outputs": [],
   "source": [
    "s = {\"apple\", \"banana\", \"cherry\"}\n",
    "s2 = {\"banana\", \"cherry\", \"orange\"}"
   ]
  },
  {
   "cell_type": "markdown",
   "metadata": {},
   "source": [
    "#### Set operations:\n",
    "\n",
    "- $S \\cap S_2$: ```s.intersection(s2)```\n",
    "- $S \\cup S_2$: ```s.union(s2)```\n",
    "\n",
    "Both return a set."
   ]
  },
  {
   "cell_type": "code",
   "execution_count": 19,
   "metadata": {},
   "outputs": [
    {
     "name": "stdout",
     "output_type": "stream",
     "text": [
      "{'banana', 'cherry'}\n",
      "{'orange', 'banana', 'apple', 'cherry'}\n"
     ]
    }
   ],
   "source": [
    "print(s.intersection(s2))\n",
    "print(s.union(s2))"
   ]
  },
  {
   "cell_type": "markdown",
   "metadata": {},
   "source": [
    "Loop through sets:"
   ]
  },
  {
   "cell_type": "code",
   "execution_count": 20,
   "metadata": {},
   "outputs": [
    {
     "name": "stdout",
     "output_type": "stream",
     "text": [
      "banana\n",
      "cherry\n"
     ]
    }
   ],
   "source": [
    "for x in s.intersection(s2):\n",
    "    print(x)"
   ]
  },
  {
   "cell_type": "markdown",
   "metadata": {},
   "source": [
    "Add and remove items:"
   ]
  },
  {
   "cell_type": "code",
   "execution_count": 21,
   "metadata": {},
   "outputs": [
    {
     "name": "stdout",
     "output_type": "stream",
     "text": [
      "{'pear', 'banana', 'apple', 'cherry'}\n"
     ]
    }
   ],
   "source": [
    "s.add('pear')\n",
    "print(s)"
   ]
  },
  {
   "cell_type": "code",
   "execution_count": 22,
   "metadata": {},
   "outputs": [
    {
     "name": "stdout",
     "output_type": "stream",
     "text": [
      "{'pear', 'apple', 'cherry'}\n"
     ]
    }
   ],
   "source": [
    "s.remove('banana')\n",
    "print(s)"
   ]
  },
  {
   "cell_type": "markdown",
   "metadata": {},
   "source": [
    "### Dictionaries (Dicts)\n",
    "\n",
    "In addition to lists, dicts are perhaps the most dominant data structure in Python, as they can handle self explanatory key-value pairs.\n",
    "\n",
    "They are constructed using curly brackets and ```'key': value```pairs separated by commas."
   ]
  },
  {
   "cell_type": "code",
   "execution_count": 23,
   "metadata": {},
   "outputs": [
    {
     "name": "stdout",
     "output_type": "stream",
     "text": [
      "{'make': 'Bombardier', 'model': 'Traxx', 'power': 5600}\n"
     ]
    }
   ],
   "source": [
    "d ={\n",
    "  \"make\": \"Bombardier\",\n",
    "  \"model\": \"Traxx\",\n",
    "  \"power\": 5600\n",
    "}\n",
    "print(d)"
   ]
  },
  {
   "cell_type": "markdown",
   "metadata": {},
   "source": [
    "Access model:"
   ]
  },
  {
   "cell_type": "code",
   "execution_count": 24,
   "metadata": {},
   "outputs": [
    {
     "data": {
      "text/plain": [
       "'Traxx'"
      ]
     },
     "execution_count": 24,
     "metadata": {},
     "output_type": "execute_result"
    }
   ],
   "source": [
    "d['model']"
   ]
  },
  {
   "cell_type": "markdown",
   "metadata": {},
   "source": [
    "Change power:"
   ]
  },
  {
   "cell_type": "code",
   "execution_count": 25,
   "metadata": {},
   "outputs": [],
   "source": [
    "d['power'] = 4200"
   ]
  },
  {
   "cell_type": "markdown",
   "metadata": {},
   "source": [
    "Add key value pair:"
   ]
  },
  {
   "cell_type": "code",
   "execution_count": 26,
   "metadata": {},
   "outputs": [
    {
     "name": "stdout",
     "output_type": "stream",
     "text": [
      "{'make': 'Bombardier', 'model': 'Traxx', 'power': 4200, 'year': 2016}\n"
     ]
    }
   ],
   "source": [
    "d['year'] = 2016\n",
    "print(d)"
   ]
  },
  {
   "cell_type": "markdown",
   "metadata": {},
   "source": [
    "---\n",
    "\n",
    "## Exercise\n",
    "\n",
    "1. Use ```range(0,n)```to generate a linear list of integers, let $n=10$\n",
    "1. Loop through this list\n",
    "1. For each integer $i$, calculate and print (nicely!)\n",
    "  - $i$ squared: $i^2$\n",
    "  - Factorial of $i$: $i! = i(i-1)!$, $0! = 1$\n",
    "  - Append both values to list that you initialise empty"
   ]
  },
  {
   "cell_type": "code",
   "execution_count": null,
   "metadata": {},
   "outputs": [],
   "source": []
  }
 ],
 "metadata": {
  "kernelspec": {
   "display_name": "Python 3",
   "language": "python",
   "name": "python3"
  },
  "language_info": {
   "codemirror_mode": {
    "name": "ipython",
    "version": 3
   },
   "file_extension": ".py",
   "mimetype": "text/x-python",
   "name": "python",
   "nbconvert_exporter": "python",
   "pygments_lexer": "ipython3",
   "version": "3.9.1"
  }
 },
 "nbformat": 4,
 "nbformat_minor": 2
}
